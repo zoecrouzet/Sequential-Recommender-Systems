{
  "cells": [
    {
      "attachments": {},
      "cell_type": "markdown",
      "metadata": {
        "id": "xOujqMafI0ka"
      },
      "source": [
        "# GitHub Fetch"
      ]
    },
    {
      "cell_type": "code",
      "execution_count": 3,
      "metadata": {
        "colab": {
          "base_uri": "https://localhost:8080/",
          "height": 502
        },
        "id": "vOys_E2wwK1F",
        "outputId": "2cb41722-7748-4f2b-8b7d-ece0ecfbc24f"
      },
      "outputs": [
        {
          "name": "stdout",
          "output_type": "stream",
          "text": [
            "Looking in indexes: https://pypi.org/simple, https://us-python.pkg.dev/colab-wheels/public/simple/\n",
            "Collecting fastparquet\n",
            "  Downloading fastparquet-2022.12.0-cp38-cp38-manylinux_2_17_x86_64.manylinux2014_x86_64.whl (1.6 MB)\n",
            "\u001b[K     |████████████████████████████████| 1.6 MB 4.9 MB/s \n",
            "\u001b[?25hRequirement already satisfied: packaging in /usr/local/lib/python3.8/dist-packages (from fastparquet) (21.3)\n",
            "Collecting pandas>=1.5.0\n",
            "  Downloading pandas-1.5.2-cp38-cp38-manylinux_2_17_x86_64.manylinux2014_x86_64.whl (12.2 MB)\n",
            "\u001b[K     |████████████████████████████████| 12.2 MB 55.7 MB/s \n",
            "\u001b[?25hRequirement already satisfied: fsspec in /usr/local/lib/python3.8/dist-packages (from fastparquet) (2022.11.0)\n",
            "Collecting cramjam>=2.3\n",
            "  Downloading cramjam-2.6.2-cp38-cp38-manylinux_2_17_x86_64.manylinux2014_x86_64.whl (2.0 MB)\n",
            "\u001b[K     |████████████████████████████████| 2.0 MB 43.1 MB/s \n",
            "\u001b[?25hRequirement already satisfied: numpy>=1.20.3 in /usr/local/lib/python3.8/dist-packages (from fastparquet) (1.21.6)\n",
            "Requirement already satisfied: python-dateutil>=2.8.1 in /usr/local/lib/python3.8/dist-packages (from pandas>=1.5.0->fastparquet) (2.8.2)\n",
            "Requirement already satisfied: pytz>=2020.1 in /usr/local/lib/python3.8/dist-packages (from pandas>=1.5.0->fastparquet) (2022.6)\n",
            "Requirement already satisfied: six>=1.5 in /usr/local/lib/python3.8/dist-packages (from python-dateutil>=2.8.1->pandas>=1.5.0->fastparquet) (1.15.0)\n",
            "Requirement already satisfied: pyparsing!=3.0.5,>=2.0.2 in /usr/local/lib/python3.8/dist-packages (from packaging->fastparquet) (3.0.9)\n",
            "Installing collected packages: pandas, cramjam, fastparquet\n",
            "  Attempting uninstall: pandas\n",
            "    Found existing installation: pandas 1.3.5\n",
            "    Uninstalling pandas-1.3.5:\n",
            "      Successfully uninstalled pandas-1.3.5\n",
            "Successfully installed cramjam-2.6.2 fastparquet-2022.12.0 pandas-1.5.2\n"
          ]
        },
        {
          "data": {
            "application/vnd.colab-display-data+json": {
              "pip_warning": {
                "packages": [
                  "pandas"
                ]
              }
            }
          },
          "metadata": {},
          "output_type": "display_data"
        }
      ],
      "source": [
        "import requests\n",
        "\n",
        "requests.get(\"https://github.com/eifuentes/lastfm-dataset-1K/releases/download/v1.0/lastfm-dataset-1k.snappy.parquet\")"
      ]
    },
    {
      "attachments": {},
      "cell_type": "markdown",
      "metadata": {},
      "source": [
        "# Parameters + Imports"
      ]
    },
    {
      "cell_type": "code",
      "execution_count": 12,
      "metadata": {},
      "outputs": [],
      "source": [
        "import pandas as pd\n",
        "import requests\n",
        "from pprint import pprint\n",
        "from collections import OrderedDict\n",
        "import random\n",
        "from pprint import pprint\n",
        "import numpy as np\n",
        "import time\n",
        "\n",
        "EXPERIMENT_USER_COUNT = 100\n",
        "EXPERIMENT_TRACK_COUNT = 500\n",
        "EXPERIMENT_SPLIT = 400\n",
        "BASKET_SIZE = 10"
      ]
    },
    {
      "attachments": {},
      "cell_type": "markdown",
      "metadata": {},
      "source": [
        "# Read raw data"
      ]
    },
    {
      "cell_type": "code",
      "execution_count": 13,
      "metadata": {},
      "outputs": [
        {
          "name": "stderr",
          "output_type": "stream",
          "text": [
            "C:\\Users\\valen\\AppData\\Local\\Temp\\ipykernel_21236\\1889303801.py:2: FutureWarning: this method is deprecated in favour of `Styler.hide(axis=\"index\")`\n",
            "  raw.style.hide_index()\n"
          ]
        },
        {
          "data": {
            "text/html": [
              "<div>\n",
              "<style scoped>\n",
              "    .dataframe tbody tr th:only-of-type {\n",
              "        vertical-align: middle;\n",
              "    }\n",
              "\n",
              "    .dataframe tbody tr th {\n",
              "        vertical-align: top;\n",
              "    }\n",
              "\n",
              "    .dataframe thead th {\n",
              "        text-align: right;\n",
              "    }\n",
              "</style>\n",
              "<table border=\"1\" class=\"dataframe\">\n",
              "  <thead>\n",
              "    <tr style=\"text-align: right;\">\n",
              "      <th></th>\n",
              "      <th>user_id</th>\n",
              "      <th>timestamp</th>\n",
              "      <th>artist_id</th>\n",
              "      <th>artist_name</th>\n",
              "      <th>track_id</th>\n",
              "      <th>track_name</th>\n",
              "    </tr>\n",
              "  </thead>\n",
              "  <tbody>\n",
              "    <tr>\n",
              "      <th>0</th>\n",
              "      <td>user_000001</td>\n",
              "      <td>2006-08-13 13:59:20+00:00</td>\n",
              "      <td>09a114d9-7723-4e14-b524-379697f6d2b5</td>\n",
              "      <td>Plaid &amp; Bob Jaroc</td>\n",
              "      <td>c4633ab1-e715-477f-8685-afa5f2058e42</td>\n",
              "      <td>The Launching Of Big Face</td>\n",
              "    </tr>\n",
              "    <tr>\n",
              "      <th>1</th>\n",
              "      <td>user_000001</td>\n",
              "      <td>2006-08-13 14:03:29+00:00</td>\n",
              "      <td>09a114d9-7723-4e14-b524-379697f6d2b5</td>\n",
              "      <td>Plaid &amp; Bob Jaroc</td>\n",
              "      <td>bc2765af-208c-44c5-b3b0-cf597a646660</td>\n",
              "      <td>Zn Zero</td>\n",
              "    </tr>\n",
              "    <tr>\n",
              "      <th>2</th>\n",
              "      <td>user_000001</td>\n",
              "      <td>2006-08-13 14:10:43+00:00</td>\n",
              "      <td>09a114d9-7723-4e14-b524-379697f6d2b5</td>\n",
              "      <td>Plaid &amp; Bob Jaroc</td>\n",
              "      <td>aa9c5a80-5cbe-42aa-a966-eb3cfa37d832</td>\n",
              "      <td>The Return Of Super Barrio - End Credits</td>\n",
              "    </tr>\n",
              "    <tr>\n",
              "      <th>3</th>\n",
              "      <td>user_000001</td>\n",
              "      <td>2006-08-13 14:17:40+00:00</td>\n",
              "      <td>67fb65b5-6589-47f0-9371-8a40eb268dfb</td>\n",
              "      <td>Tommy Guerrero</td>\n",
              "      <td>d9b1c1da-7e47-4f97-a135-77260f2f559d</td>\n",
              "      <td>Mission Flats</td>\n",
              "    </tr>\n",
              "    <tr>\n",
              "      <th>4</th>\n",
              "      <td>user_000001</td>\n",
              "      <td>2006-08-13 14:19:06+00:00</td>\n",
              "      <td>1cfbc7d1-299c-46e6-ba4c-1facb84ba435</td>\n",
              "      <td>Artful Dodger</td>\n",
              "      <td>120bb01c-03e4-465f-94a0-dce5e9fac711</td>\n",
              "      <td>What You Gonna Do?</td>\n",
              "    </tr>\n",
              "  </tbody>\n",
              "</table>\n",
              "</div>"
            ],
            "text/plain": [
              "       user_id                 timestamp  \\\n",
              "0  user_000001 2006-08-13 13:59:20+00:00   \n",
              "1  user_000001 2006-08-13 14:03:29+00:00   \n",
              "2  user_000001 2006-08-13 14:10:43+00:00   \n",
              "3  user_000001 2006-08-13 14:17:40+00:00   \n",
              "4  user_000001 2006-08-13 14:19:06+00:00   \n",
              "\n",
              "                              artist_id        artist_name  \\\n",
              "0  09a114d9-7723-4e14-b524-379697f6d2b5  Plaid & Bob Jaroc   \n",
              "1  09a114d9-7723-4e14-b524-379697f6d2b5  Plaid & Bob Jaroc   \n",
              "2  09a114d9-7723-4e14-b524-379697f6d2b5  Plaid & Bob Jaroc   \n",
              "3  67fb65b5-6589-47f0-9371-8a40eb268dfb     Tommy Guerrero   \n",
              "4  1cfbc7d1-299c-46e6-ba4c-1facb84ba435      Artful Dodger   \n",
              "\n",
              "                               track_id  \\\n",
              "0  c4633ab1-e715-477f-8685-afa5f2058e42   \n",
              "1  bc2765af-208c-44c5-b3b0-cf597a646660   \n",
              "2  aa9c5a80-5cbe-42aa-a966-eb3cfa37d832   \n",
              "3  d9b1c1da-7e47-4f97-a135-77260f2f559d   \n",
              "4  120bb01c-03e4-465f-94a0-dce5e9fac711   \n",
              "\n",
              "                                 track_name  \n",
              "0                 The Launching Of Big Face  \n",
              "1                                   Zn Zero  \n",
              "2  The Return Of Super Barrio - End Credits  \n",
              "3                             Mission Flats  \n",
              "4                        What You Gonna Do?  "
            ]
          },
          "execution_count": 13,
          "metadata": {},
          "output_type": "execute_result"
        }
      ],
      "source": [
        "raw = pd.read_parquet(\"lastfm-dataset-1k.snappy.parquet\")\n",
        "raw.style.hide_index()\n",
        "raw.head()"
      ]
    },
    {
      "attachments": {},
      "cell_type": "markdown",
      "metadata": {},
      "source": [
        "# Rework data"
      ]
    },
    {
      "attachments": {},
      "cell_type": "markdown",
      "metadata": {},
      "source": [
        "### Get top tracks from dataset"
      ]
    },
    {
      "cell_type": "code",
      "execution_count": 14,
      "metadata": {},
      "outputs": [],
      "source": [
        "top_tracks = raw.track_id.value_counts()[:1000].index.to_list()"
      ]
    },
    {
      "attachments": {},
      "cell_type": "markdown",
      "metadata": {},
      "source": [
        "### Remove Null users"
      ]
    },
    {
      "cell_type": "code",
      "execution_count": 15,
      "metadata": {},
      "outputs": [],
      "source": [
        "end_users = []\n",
        "\n",
        "raw = raw.dropna()\n",
        "\n",
        "users = raw.user_id.unique()\n",
        "\n",
        "end_users = users[:EXPERIMENT_USER_COUNT]"
      ]
    },
    {
      "attachments": {},
      "cell_type": "markdown",
      "metadata": {},
      "source": [
        "### Extract useful data from raw"
      ]
    },
    {
      "cell_type": "code",
      "execution_count": 16,
      "metadata": {},
      "outputs": [],
      "source": [
        "data = {}\n",
        "for user in end_users:\n",
        "    data[user] = raw[raw[\"user_id\"] == user][:EXPERIMENT_TRACK_COUNT].track_id.to_list()\n"
      ]
    },
    {
      "attachments": {},
      "cell_type": "markdown",
      "metadata": {},
      "source": [
        "# Extract track counts"
      ]
    },
    {
      "cell_type": "code",
      "execution_count": 17,
      "metadata": {
        "colab": {
          "base_uri": "https://localhost:8080/",
          "height": 70
        },
        "id": "-FnWg_qZ3u4K",
        "outputId": "7745e3d9-2017-49a7-9a1c-96fac2d73528"
      },
      "outputs": [],
      "source": [
        "GP = False\n",
        "\n",
        "split = {}\n",
        "\n",
        "# Dictionary of users containing their baskets\n",
        "baskets = {}\n",
        "explore_counts = {}\n",
        "# Dictionary we will use for the prediction\n",
        "prediction = {}\n",
        "exploration = {}\n",
        "\n",
        "for user in end_users:\n",
        "  l = len(data[user])\n",
        "  if l >= EXPERIMENT_SPLIT:\n",
        "    lsplit = EXPERIMENT_SPLIT\n",
        "  else:\n",
        "    lsplit = (int)(l*0.8)\n",
        "  split[user] = data[user][:lsplit]\n",
        "  exploration[user] = data[user][(lsplit-l):]\n",
        "  \n",
        "  basket = OrderedDict()\n",
        "  explore_count = OrderedDict()\n",
        "  mem = []\n",
        "  for track in split[user]:\n",
        "    if track in mem:\n",
        "      basket[track] += 1\n",
        "    elif track != None:\n",
        "      basket[track] = 1\n",
        "      mem.append(track)\n",
        "\n",
        "  mem = []\n",
        "  for track in exploration[user]:\n",
        "    if track in mem:\n",
        "      explore_count[track] += 1\n",
        "    elif track != None:\n",
        "      explore_count[track] = 1\n",
        "      mem.append(track)\n",
        "  #print(basket)\n",
        "\n",
        "  baskets[user] = []\n",
        "  explore_counts[user] = []\n",
        "  for title, count in basket.items():\n",
        "    baskets[user].append([title, count])\n",
        "  for title, count in explore_count.items():\n",
        "    explore_counts[user].append([title, count])\n"
      ]
    },
    {
      "cell_type": "code",
      "execution_count": 18,
      "metadata": {},
      "outputs": [
        {
          "name": "stdout",
          "output_type": "stream",
          "text": [
            "[['3d02535e-a5ef-4c25-8ad4-250542288fbd', 1], ['d2c36a97-6596-439e-9018-3d9ff08278c1', 1], ['652e6278-f7a3-4590-9f76-4d18b124922e', 1], ['2e25a2d0-f5e3-43ca-a8d5-a68c6f758f7b', 1]]\n"
          ]
        }
      ],
      "source": [
        "print(baskets[\"user_000061\"])"
      ]
    },
    {
      "cell_type": "code",
      "execution_count": null,
      "metadata": {},
      "outputs": [],
      "source": [
        "Nr = []\n",
        "Ne = []\n",
        "tReps = {}\n",
        "tExps = {}\n",
        "\n",
        "for user in end_users:\n",
        "    tReps[user] = []\n",
        "    tExps[user] = []\n",
        "    for track in explore_counts[user]:\n",
        "        if track[1] > 1:\n",
        "            tReps[user].append(track[0])\n",
        "            if user not in Nr:\n",
        "                Nr.append(user)\n",
        "        elif track[1] == 1:\n",
        "            tExps[user].append(track[0])\n",
        "            if user not in Ne:\n",
        "                Ne.append(user)\n",
        "\n",
        "print(len(Nr)/100)\n",
        "print(len(Ne)/100)"
      ]
    },
    {
      "cell_type": "markdown",
      "metadata": {
        "id": "_1X_olirIwh_"
      },
      "source": [
        "# Baseline Algorithm"
      ]
    },
    {
      "cell_type": "code",
      "execution_count": 26,
      "metadata": {
        "colab": {
          "base_uri": "https://localhost:8080/"
        },
        "id": "cVc1p_Raw2uA",
        "outputId": "bad73661-bdf8-42f9-8b04-e49a28fb3468"
      },
      "outputs": [],
      "source": [
        "def baseline_algo(user_basket, user):\n",
        "  frequency_list = {}\n",
        "  #print(user_basket)\n",
        "  for track in user_basket:\n",
        "    if track[0] not in frequency_list.values():\n",
        "      count = track[1]\n",
        "      if count not in frequency_list.keys():\n",
        "        frequency_list[count] = [track]\n",
        "      else:\n",
        "        frequency_list[count].append(track)\n",
        "  #print(frequency_list)\n",
        "  highest = 0\n",
        "  for key in frequency_list.keys():\n",
        "    if int(key) > highest:\n",
        "      highest = key\n",
        "  #print(highest)\n",
        "  \n",
        "  #predicted_track = random.choice(frequency_list[highest])\n",
        "  next_basket = []\n",
        "  limit = BASKET_SIZE\n",
        "  count = 0\n",
        "  for value in sorted(frequency_list.items(), reverse = True):\n",
        "    lg = len(value[1])\n",
        "    count += lg\n",
        "    #print(count)\n",
        "    if lg >= limit:\n",
        "      for track in value[1][:limit]:\n",
        "        next_basket.append(track)\n",
        "      #print(next_basket)\n",
        "      break\n",
        "    else:\n",
        "      limit -= lg\n",
        "      for track in value[1]:\n",
        "        next_basket.append(track)\n",
        "\n",
        "  if len(next_basket) < BASKET_SIZE:\n",
        "    for track in top_tracks:\n",
        "      if track not in next_basket and track not in split[user]:\n",
        "        next_basket.append([track, 0])\n",
        "        \n",
        "      if len(next_basket) >= BASKET_SIZE:\n",
        "        break\n",
        "\n",
        "  return next_basket\n",
        "\n",
        "predicted_baskets = {}\n",
        "for user in end_users:\n",
        "  base = baseline_algo(baskets[user], user)\n",
        "  predicted_baskets[user] = base"
      ]
    },
    {
      "cell_type": "markdown",
      "metadata": {
        "id": "awYh2QbFIsW9"
      },
      "source": [
        "# Metrics"
      ]
    },
    {
      "attachments": {},
      "cell_type": "markdown",
      "metadata": {},
      "source": [
        "### Functions"
      ]
    },
    {
      "cell_type": "code",
      "execution_count": 27,
      "metadata": {},
      "outputs": [],
      "source": [
        "import math\n",
        "\n",
        "#print(predicted_baskets[\"user_000001\"])\n",
        "#print(data[\"user_000001\"])\n",
        "# Can only implement this if we can somehow rank the results of the algorithm\n",
        "\n",
        "def recRep(basket, target):\n",
        "  if len(target) == 0:\n",
        "    return 0\n",
        "  res = 0\n",
        "  for track in basket:\n",
        "    if track[0] in target:\n",
        "      res += 1\n",
        "  return res/len(target)\n",
        "\n",
        "def preRep(basket, target):\n",
        "  if len(target) == 0:\n",
        "    return 0\n",
        "  count = 0\n",
        "  for track in basket:\n",
        "    if track[0] in target:\n",
        "      count += 1\n",
        "  return count/len(basket)\n",
        "\n",
        "def recExp(basket, target):\n",
        "  if len(target) == 0:\n",
        "    return 0\n",
        "  res = 0\n",
        "  for track in basket:\n",
        "    if track[0] in target:\n",
        "      res += 1\n",
        "  return res/len(target)\n",
        "\n",
        "def preExp(basket, target):\n",
        "  if len(target) == 0:\n",
        "    return 0\n",
        "  count = 0\n",
        "  for track in basket:\n",
        "    if track[0] in target:\n",
        "      count += 1\n",
        "  return count/len(basket)\n",
        "\n",
        "def PHR(basket, target):\n",
        "  for track in basket:\n",
        "    if track[0] in target:\n",
        "      return 1\n",
        "  return 0\n",
        "\n",
        "def DCG(basket, history):\n",
        "  res = 1\n",
        "  for i, track in enumerate(basket[1:]):\n",
        "    if track[0] in history:\n",
        "      res += 1/(math.log2(i+2))\n",
        "  return res\n",
        "\n",
        "def NDCG(basket, history):\n",
        "  res = DCG(basket, history)\n",
        "  # Our algorithm always returns results in the optimal order : first, results the user listened to most, then the ones they may not have listened to.\n",
        "  # So, NDCG is always 1\n",
        "  return res/res\n",
        "\n",
        "def average_score_array(array):\n",
        "  for i in range(len(array)):\n",
        "    if i >= 0 and i <= 2:\n",
        "      array[i] = array[i]/len(Nr)\n",
        "    elif i >= 3 and i <= 5:\n",
        "      array[i] = array[i]/len(Ne)\n",
        "    else:\n",
        "      array[i] = array[i]/EXPERIMENT_USER_COUNT\n",
        "  return array\n",
        "\n",
        "def compute_tRep(testing_data):\n",
        "  res = []\n",
        "  for track in testing_data:\n",
        "    if track[1] > 1:\n",
        "      res.append()"
      ]
    },
    {
      "attachments": {},
      "cell_type": "markdown",
      "metadata": {},
      "source": [
        "### Computation"
      ]
    },
    {
      "cell_type": "code",
      "execution_count": 36,
      "metadata": {
        "colab": {
          "base_uri": "https://localhost:8080/"
        },
        "id": "-g9R_-2k1OLG",
        "outputId": "e8fd5ed3-83a7-49cb-a263-bed11813965c"
      },
      "outputs": [
        {
          "name": "stdout",
          "output_type": "stream",
          "text": [
            "RepeatRecall, RepeatPrecision, RepeatPHR, ExploreRecall, ExplorePrecision, ExplorePHR, NDCG:\n",
            "[0.12146810439593225, 0.1555555555555555, 0.5666666666666667, 0.025910608307885327, 0.14141414141414138, 0.6262626262626263, 1.0]\n"
          ]
        }
      ],
      "source": [
        "scores = {}\n",
        "\n",
        "for user in Nr:\n",
        "  #scores : Repeat Recall, Repeat Precision, Repeat PHR\n",
        "  scores[user] = {}\n",
        "  scores[user][\"recRep\"] = recRep(predicted_baskets[user], tReps[user])\n",
        "  scores[user][\"preRep\"] = preRep(predicted_baskets[user], tReps[user])\n",
        "  scores[user][\"PHRRep\"] = PHR(predicted_baskets[user], tReps[user])\n",
        "\n",
        "for user in Ne:\n",
        "  tExp = list(set(exploration[user]) - set(split[user]))\n",
        "  #print(\"tExp: \", tExp)\n",
        "  #print(\"predicted: \", predicted_baskets[user])\n",
        "  if(user not in scores.keys()):\n",
        "    scores[user] = {}\n",
        "  \n",
        "  scores[user][\"recExp\"] = recExp(predicted_baskets[user], tExps[user])\n",
        "  scores[user][\"preExp\"] = preExp(predicted_baskets[user], tExps[user])\n",
        "  scores[user][\"PHRExp\"] = PHR(predicted_baskets[user], tExps[user])\n",
        "\n",
        "for user in end_users:\n",
        "  scores[user][\"NDCG\"] = NDCG(predicted_baskets[user], data[user])\n",
        "\n",
        "#print(scores)\n",
        "avg_scores = [0,0,0,0,0,0,0]\n",
        "\n",
        "for user in end_users:\n",
        "  for i in range(7):\n",
        "    if user in Nr and i == 0:\n",
        "      avg_scores[i] += scores[user][\"recRep\"]\n",
        "    elif user in Nr and i == 1:\n",
        "      avg_scores[i] += scores[user][\"preRep\"]\n",
        "    elif user in Nr and i == 2:\n",
        "      avg_scores[i] += scores[user][\"PHRRep\"]\n",
        "    elif user in Ne and i == 3:\n",
        "      avg_scores[i] += scores[user][\"recExp\"]\n",
        "    elif user in Ne and i == 4:\n",
        "      avg_scores[i] += scores[user][\"preExp\"]\n",
        "    elif user in Ne and i == 5:\n",
        "      avg_scores[i] += scores[user][\"PHRExp\"]\n",
        "    elif i == 6:\n",
        "      avg_scores[i] += scores[user][\"NDCG\"]\n",
        "\n",
        "avg_scores = average_score_array(avg_scores)\n",
        "\n",
        "print(\"RepeatRecall, RepeatPrecision, RepeatPHR, ExploreRecall, ExplorePrecision, ExplorePHR, NDCG:\")\n",
        "print(avg_scores)"
      ]
    }
  ],
  "metadata": {
    "colab": {
      "provenance": []
    },
    "kernelspec": {
      "display_name": "Python 3.10.1 64-bit",
      "language": "python",
      "name": "python3"
    },
    "language_info": {
      "codemirror_mode": {
        "name": "ipython",
        "version": 3
      },
      "file_extension": ".py",
      "mimetype": "text/x-python",
      "name": "python",
      "nbconvert_exporter": "python",
      "pygments_lexer": "ipython3",
      "version": "3.10.1"
    },
    "vscode": {
      "interpreter": {
        "hash": "837c519a48be08d8749c778cb72b9b5aac116a087aa5d1d99ee0359dceff73e6"
      }
    }
  },
  "nbformat": 4,
  "nbformat_minor": 0
}
